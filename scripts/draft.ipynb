{
 "cells": [
  {
   "cell_type": "markdown",
   "metadata": {},
   "source": [
    "# ifeng"
   ]
  },
  {
   "cell_type": "code",
   "execution_count": 13,
   "metadata": {},
   "outputs": [
    {
     "name": "stdout",
     "output_type": "stream",
     "text": [
      "https://v.ifeng.com/c/7rl3FjbqxFY\n",
      "视频标题是： 不设副总裁，身兼多部门部长，宗庆后坚持\"独自\"管理娃哈哈\n"
     ]
    }
   ],
   "source": [
    "import requests\n",
    "from bs4 import BeautifulSoup\n",
    "\n",
    "VIDEO_URL_PREFIX    = \"https://v.ifeng.com/c/{}\"\n",
    "SEARCH_URL_PREFIX   = \"https://so.ifeng.com/?q={}\"\n",
    "\n",
    "id = \"7rl3FjbqxFY\"\n",
    "# id = \"7wUkvrWM6Wu\"\n",
    "\n",
    "url = VIDEO_URL_PREFIX.format(id)\n",
    "\n",
    "print(url)\n",
    "\n",
    "response = requests.get(url)\n",
    "soup = BeautifulSoup(response.text, 'html.parser')\n",
    "title_div = soup.find('div', class_='index_titleInner_zF-mW')\n",
    "if title_div:\n",
    "    title = title_div.h1.text\n",
    "    print(\"视频标题是：\", title)\n",
    "else:\n",
    "    print(\"未找到标题\")\n",
    "with open(\"test.html\", \"w\") as f:\n",
    "    f.write(response.text)"
   ]
  },
  {
   "cell_type": "markdown",
   "metadata": {},
   "source": [
    "# xiaodutv"
   ]
  },
  {
   "cell_type": "code",
   "execution_count": 15,
   "metadata": {},
   "outputs": [
    {
     "name": "stdout",
     "output_type": "stream",
     "text": [
      "https://baishi.xiaodutv.com/watch/03329838517595095888.html\n",
      "视频标题是： 蛋黄肉松青团的正宗做法，软糯可口，满是春天的气息！\n"
     ]
    }
   ],
   "source": [
    "import requests\n",
    "from bs4 import BeautifulSoup\n",
    "\n",
    "VIDEO_URL_PREFIX    = \"https://baishi.xiaodutv.com/watch/{}.html\"\n",
    "\n",
    "id = \"03329838517595095888\"\n",
    "\n",
    "url = VIDEO_URL_PREFIX.format(id)\n",
    "\n",
    "print(url)\n",
    "\n",
    "response = requests.get(url)\n",
    "soup = BeautifulSoup(response.text, 'html.parser')\n",
    "title_div = soup.find('div', class_='title-cont')\n",
    "if title_div:\n",
    "    title = title_div.h2.text\n",
    "    print(\"视频标题是：\", title)\n",
    "else:\n",
    "    print(\"未找到标题\")\n",
    "with open(\"test.html\", \"w\") as f:\n",
    "    f.write(response.text)"
   ]
  },
  {
   "cell_type": "markdown",
   "metadata": {},
   "source": [
    "# thepaper"
   ]
  },
  {
   "cell_type": "code",
   "execution_count": 21,
   "metadata": {},
   "outputs": [
    {
     "name": "stdout",
     "output_type": "stream",
     "text": [
      "https://www.thepaper.cn/newsDetail_forward_27011470\n",
      "视频标题是： 受金价上涨影响，部分黄金加工企业停工放假\n",
      "视频简介是： 据央视财经，由于近期黄金价格强势走高，下游黄金销售商家拿货逐渐谨慎，多家黄金加工企业的订单均明显下滑，部分企业甚至直接停工放假。\n"
     ]
    }
   ],
   "source": [
    "VIDEO_URL_PREFIX = \"https://www.thepaper.cn/newsDetail_forward_{}\"\n",
    "id = \"26994440\"\n",
    "id = \"27011470\"\n",
    "url = VIDEO_URL_PREFIX.format(id)\n",
    "\n",
    "print(url)\n",
    "\n",
    "response = requests.get(url)\n",
    "soup = BeautifulSoup(response.text, 'html.parser')\n",
    "title_tag = soup.find('h2', class_='header_title__vP_8V')\n",
    "if title_tag:\n",
    "    title = title_tag.text\n",
    "    print(\"视频标题是：\", title)\n",
    "else:\n",
    "    print(\"未找到标题\")\n",
    "\n",
    "intro_tag = soup.find('p', class_='header_desc__OlmEB')\n",
    "if intro_tag:\n",
    "    intro = intro_tag.text\n",
    "    print(\"视频简介是：\", intro)\n",
    "else:\n",
    "    print(\"未找到简介\")\n",
    "\n",
    "with open(\"test.html\", \"w\") as f:\n",
    "    f.write(response.text)"
   ]
  },
  {
   "cell_type": "markdown",
   "metadata": {},
   "source": [
    "# haokan"
   ]
  },
  {
   "cell_type": "code",
   "execution_count": 11,
   "metadata": {},
   "outputs": [
    {
     "name": "stdout",
     "output_type": "stream",
     "text": [
      "https://haokan.baidu.com/v\n",
      "未找到标题\n"
     ]
    }
   ],
   "source": [
    "\n",
    "import requests\n",
    "from bs4 import BeautifulSoup\n",
    "from fake_useragent import UserAgent\n",
    "\n",
    "VIDEO_URL_PREFIX = \"https://haokan.baidu.com/v?vid={}\"\n",
    "id = \"11971424179246351441\"\n",
    "url = VIDEO_URL_PREFIX.format(id)\n",
    "url = \"https://haokan.baidu.com/v\"\n",
    "\n",
    "print(url)\n",
    "\n",
    "headers = {'User-Agent': UserAgent().random}\n",
    "headers = {'User-Agent': 'Mozilla/5.0 (Macintosh; Intel Mac OS X 10_15_7) AppleWebKit/537.36 (KHTML, like Gecko) Chrome/123.0.0.0 Safari/537.36'}\n",
    "\n",
    "param = {\n",
    "    'vid' : '11971424179246351441'\n",
    "}\n",
    "\n",
    "response = requests.get(url, params=param, headers=headers)\n",
    "soup = BeautifulSoup(response.text, 'html.parser')\n",
    "title_tag = soup.find('div', class_='videoinfo')\n",
    "if title_tag:\n",
    "    title = title_tag.h1.text\n",
    "    print(\"视频标题是：\", title)\n",
    "else:\n",
    "    print(\"未找到标题\")\n",
    "\n",
    "with open(\"test.html\", \"w\") as f:\n",
    "    f.write(response.text)"
   ]
  },
  {
   "cell_type": "code",
   "execution_count": null,
   "metadata": {},
   "outputs": [],
   "source": []
  },
  {
   "cell_type": "markdown",
   "metadata": {},
   "source": [
    "# ku6"
   ]
  },
  {
   "cell_type": "code",
   "execution_count": 58,
   "metadata": {},
   "outputs": [
    {
     "name": "stdout",
     "output_type": "stream",
     "text": [
      "https://www.ku6.com/video/detail?id=0kBZ8kWbgmV-Fr24u9XUgzBPVHg\n",
      "视频标题是： “Thurman猫一杯”被多平台封号，警方披露其编造“秦朗丢作业”详情\n"
     ]
    }
   ],
   "source": [
    "\n",
    "import re\n",
    "\n",
    "VIDEO_URL_PREFIX = \"https://www.ku6.com/video/detail?id={}\"\n",
    "id = \"0kBZ8kWbgmV-Fr24u9XUgzBPVHg\"\n",
    "url = VIDEO_URL_PREFIX.format(id)\n",
    "\n",
    "print(url)\n",
    "\n",
    "response = requests.get(url)\n",
    "soup = BeautifulSoup(response.text, 'html.parser')\n",
    "title_tag = re.search(r\"title'\\).text\\(\\\"([^\\\"]*)\\\"\\);\", response.text)\n",
    "# title_tag = soup.find('h2', id='video-title')\n",
    "if title_tag:\n",
    "    title = title_tag.group(1)\n",
    "    print(\"视频标题是：\", title)\n",
    "else:\n",
    "    print(\"未找到标题\")\n",
    "\n",
    "with open(\"test.html\", \"w\") as f:\n",
    "    f.write(response.text)"
   ]
  },
  {
   "cell_type": "markdown",
   "metadata": {},
   "source": [
    "# cntv"
   ]
  },
  {
   "cell_type": "code",
   "execution_count": 2,
   "metadata": {},
   "outputs": [
    {
     "name": "stdout",
     "output_type": "stream",
     "text": [
      "\n",
      "<!DOCTYPE html PUBLIC \"-//W3C//DTD XHTML 1.0 Transitional//EN\" \"http://www.w3.org/TR/xhtml1/DTD/xhtml1-transitional.dtd\">\n",
      "<html xmlns=\"http://www.w3.org/1999/xhtml\">\n",
      "<head>\n",
      "\t<meta http-equiv=\"Content-Type\" content=\"text/html; charset=utf-8\" />\n",
      "\t<title>央视搜索</title>\n",
      "\t<script type=\"text/javascript\" >\n",
      "\t\tvar JumpUrl = './m/index.php?type=video&r=1713162785';\n",
      "\t</script>\n",
      "\t<link href=\"style/style.css?t=20240415\" rel=\"stylesheet\" type=\"text/css\" />\n",
      "\t<link href=\"style/common.css?t=20240415\" rel=\"stylesheet\" type=\"text/css\" />\n",
      "\t<style type=\"text/css\">\n",
      "\t\tbody{background-image:url(style/img/xinbansousuo17354_Normal_img01.jpg); background-repeat:repeat;}\n",
      "\t\t.bg_top_h_tile{ background-image:url(style/img/xinbansousuo17354_Normal_img01.jpg); background-repeat:repeat;}\n",
      "\t\t\n",
      "\t\t#page_bottom .cntv_footer_hdc{ display:none;}\n",
      "\t\t#page_bottom .cntv_footer{ background-color:transparent !important; border:0 !important;color:#666666 !important;}\n",
      "\t\t#page_bottom .cntv_footer a{ color:#666666 !important;}\n",
      "\t</style>\n",
      "\t<script language=\"javascript\" src=\"js/jquery-3.5.0.min.js\"></script>\n",
      "    <script language=\"javascript\" src=\"js/pub.js?t=20240415\"></script>\n",
      "    <script type=\"text/javascript\" src=\"https://r.img.cctvpic.com/so/cctv/topwords_js/hotword.js?t=20240415\"></script>\t \n",
      "    </head>\n",
      "<body id=\"bid\">\n",
      "<!--登录条-\n",
      "\n",
      "   <!-- <script type=\"text/javascript\" src=\"ssl_js/index2013.js?t=4270\" charset=\"gbk\"></script> -->\n",
      "      <!--<script type=\"text/javascript\" src=\"ssl_js/index2013.js?t=4289\"></script>-->\n",
      "     <script type=\"text/javascript\" src=\"https://www.cctv.com/newcctv/containingPages/2019whitetop/index.js?t=202404154391\"></script>\n",
      "   <script>with(document)with(body)with(insertBefore(createElement(\"script\"),firstChild))setAttribute(\"exparams\",\"v_id=&aplus&s_cnt=&\",id=\"tb-beacon-aplus\",src=(location>\"https\"?\"//js\":\"//js\")+\".data.cctv.com/__aplus_plugin_cctv.js,aplus_plugin_aplus_u.js\")</script> \n",
      "\n",
      "   <div class=\"bg_top_h_tile\">\n",
      "  <div class=\"bg_top_owner\">\n",
      "    <div class=\"bg_bottom_h_tile\">\n",
      "      <div class=\"bg_bottom_owner\">     \n",
      "\t\t<div id=\"page_body\">\n",
      "            <!--分栏 1-->\n",
      "            <div class=\"column_wrapper\">\n",
      "                <div class=\"col_w960\">\n",
      "                    \n",
      "                    <div class=\"hudongA9876_ind01\">\n",
      "                        <div class=\"kj\">\n",
      "                        \t<div class=\"top_h\"></div>\n",
      "                            <div class=\"logo\"><img src=\"image/logo02.png\" width=\"301\" height=\"64\"/></div>\n",
      "                            \n",
      "                            <div class=\"kuangO\">\n",
      "                                \n",
      "                            \t    <!--<div class=\"nav\"><a href=\"#\"  id=\"web\" onclick=\"queryByType('web');\">网页</a><a href=\"#\" id=\"video\" class=\"cur\" onclick=\"queryByType('video');\">视频</a><a href=\"#\" id=\"podcast\" onclick=\"queryByType('podcast');\">播客</a></div>  -->\n",
      "\t                                <div class=\"nav\"><a href=\"#\"  id=\"web\" onclick=\"queryByType('web');\">网页</a><a href=\"#\" class=\"cur\"  id=\"video\" onclick=\"queryByType('video');\">视频</a><a href=\"#\" id=\"audio\"  onclick=\"queryByType('audio');\">音频</a></div>\n",
      "\t                                \n",
      "\t                                <div class=\"kuang\">  \n",
      "\t                                    <form method=\"post\" action=\"search.php\" name=\"searchform\" id=\"searchform\">                     \n",
      "\t                                        <input type=\"hidden\" name=\"type\" id=\"search_top_type\" value=\"video\"/>\n",
      "\t                                        <input  type=\"hidden\" name=\"url\"  id=\"search_url_type\" value=\"\"/> \n",
      "\t                                        <input type=\"text\" value=\"\" onkeyup=\"checkSuggest(this.value)\"  name=\"qtext\" id=\"search_qtext\" autocomplete=\"off\" disableautocomplete/><div id=\"wordClose\" class=\"close\"></div><a href=\"#\" onclick=\"searchForm_submit();\">搜&nbsp;&nbsp;&nbsp;索</a>\t                              \n",
      "\t                                    </form>\n",
      "\t                              <div style=\"position:relative;z-index:900;\"><div class=\"ascit\" id=\"searchTip\" style=\"display:none;z-index: 999;\">\n",
      "\n",
      "\t                                </div></div>\n",
      "\t                            </div>\n",
      "\t                            <script  type=\"text/javascript\" src=\"js/search_form_new.js?t=202404154016\"></script>\n",
      "\t                            <div class=\"text\" id=\"hotword\">\n",
      "\t                                <script type=\"text/javascript\">\n",
      "                       \n",
      "\t                                    var urlflag =\"\";\n",
      "\t                                    showHotWord(urlflag);\n",
      "\t                                    $(document).click(function(){\n",
      "\t                                        $(\"#searchTip\").hide();\n",
      "\t                                    });\n",
      "\t                                </script>\n",
      "\t                            </div>\n",
      "                            </div>\n",
      "                            <div class=\"bottom_h\"></div>\n",
      "                        </div>\n",
      "                    </div> \n",
      "                </div>\n",
      "            </div>\n",
      "        </div>        \n",
      "           <script type=\"text/javascript\" src=\"ssl_js/bottom.js?t=202404154270\"></script>\n",
      "      </div>\n",
      "    </div>\n",
      "  </div>\n",
      "</div>\n",
      "</body>\n",
      "<script type=\"text/javascript\">\n",
      "    var type = \"video\";\n",
      "    $(\"#\"+type).addClass('cur').siblings().removeClass(\"cur\");\n",
      "</script>\n",
      "</html>\n",
      "\n"
     ]
    }
   ],
   "source": [
    "import requests\n",
    "\n",
    "# 设置搜索关键词\n",
    "keyword = \"天气预报\"\n",
    "\n",
    "# 创建搜索 URL\n",
    "url = f\"https://search.cctv.com/search.php?q={keyword}\"\n",
    "\n",
    "# 发送 GET 请求\n",
    "response = requests.get(url)\n",
    "\n",
    "# 检查请求是否成功\n",
    "if response.status_code == 200:\n",
    "    # 打印返回的 HTML 内容\n",
    "    print(response.text)\n",
    "    with open(\"test.html\", \"w\") as f:\n",
    "        f.write(response.text)\n",
    "else:\n",
    "    print(\"请求失败，状态码：\", response.status_code)\n"
   ]
  },
  {
   "cell_type": "code",
   "execution_count": 4,
   "metadata": {},
   "outputs": [
    {
     "ename": "TimeoutError",
     "evalue": "Page.goto: Timeout 30000ms exceeded.\nCall log:\nnavigating to \"https://search.cctv.com/index.php\", waiting until \"load\"\n",
     "output_type": "error",
     "traceback": [
      "\u001b[0;31m---------------------------------------------------------------------------\u001b[0m",
      "\u001b[0;31mTimeoutError\u001b[0m                              Traceback (most recent call last)",
      "Cell \u001b[0;32mIn[4], line 35\u001b[0m\n\u001b[1;32m     32\u001b[0m     \u001b[38;5;28;01masync\u001b[39;00m \u001b[38;5;28;01mwith\u001b[39;00m async_playwright() \u001b[38;5;28;01mas\u001b[39;00m playwright:\n\u001b[1;32m     33\u001b[0m         \u001b[38;5;28;01mawait\u001b[39;00m run(playwright)\n\u001b[0;32m---> 35\u001b[0m \u001b[38;5;28;01mawait\u001b[39;00m main()\n",
      "Cell \u001b[0;32mIn[4], line 33\u001b[0m, in \u001b[0;36mmain\u001b[0;34m()\u001b[0m\n\u001b[1;32m     31\u001b[0m \u001b[38;5;28;01masync\u001b[39;00m \u001b[38;5;28;01mdef\u001b[39;00m \u001b[38;5;21mmain\u001b[39m():\n\u001b[1;32m     32\u001b[0m     \u001b[38;5;28;01masync\u001b[39;00m \u001b[38;5;28;01mwith\u001b[39;00m async_playwright() \u001b[38;5;28;01mas\u001b[39;00m playwright:\n\u001b[0;32m---> 33\u001b[0m         \u001b[38;5;28;01mawait\u001b[39;00m run(playwright)\n",
      "Cell \u001b[0;32mIn[4], line 10\u001b[0m, in \u001b[0;36mrun\u001b[0;34m(playwright)\u001b[0m\n\u001b[1;32m      6\u001b[0m page \u001b[38;5;241m=\u001b[39m \u001b[38;5;28;01mawait\u001b[39;00m browser\u001b[38;5;241m.\u001b[39mnew_page()  \u001b[38;5;66;03m# 打开一个新页面\u001b[39;00m\n\u001b[1;32m      8\u001b[0m \u001b[38;5;66;03m# 访问搜索页面\u001b[39;00m\n\u001b[1;32m      9\u001b[0m \u001b[38;5;66;03m# await page.goto('https://search.cctv.com/search.php')\u001b[39;00m\n\u001b[0;32m---> 10\u001b[0m \u001b[38;5;28;01mawait\u001b[39;00m page\u001b[38;5;241m.\u001b[39mgoto(\u001b[38;5;124m'\u001b[39m\u001b[38;5;124mhttps://search.cctv.com/index.php\u001b[39m\u001b[38;5;124m'\u001b[39m)\n\u001b[1;32m     12\u001b[0m \u001b[38;5;66;03m# 等待搜索框元素加载完毕\u001b[39;00m\n\u001b[1;32m     13\u001b[0m \u001b[38;5;28;01mawait\u001b[39;00m page\u001b[38;5;241m.\u001b[39mwait_for_selector(\u001b[38;5;124m'\u001b[39m\u001b[38;5;124minput[name=\u001b[39m\u001b[38;5;124m\"\u001b[39m\u001b[38;5;124mqtext\u001b[39m\u001b[38;5;124m\"\u001b[39m\u001b[38;5;124m]\u001b[39m\u001b[38;5;124m'\u001b[39m)\n",
      "File \u001b[0;32m/data/liuxun/anaconda3/envs/PaperStat/lib/python3.9/site-packages/playwright/async_api/_generated.py:8638\u001b[0m, in \u001b[0;36mPage.goto\u001b[0;34m(self, url, timeout, wait_until, referer)\u001b[0m\n\u001b[1;32m   8577\u001b[0m \u001b[38;5;28;01masync\u001b[39;00m \u001b[38;5;28;01mdef\u001b[39;00m \u001b[38;5;21mgoto\u001b[39m(\n\u001b[1;32m   8578\u001b[0m     \u001b[38;5;28mself\u001b[39m,\n\u001b[1;32m   8579\u001b[0m     url: \u001b[38;5;28mstr\u001b[39m,\n\u001b[0;32m   (...)\u001b[0m\n\u001b[1;32m   8585\u001b[0m     referer: typing\u001b[38;5;241m.\u001b[39mOptional[\u001b[38;5;28mstr\u001b[39m] \u001b[38;5;241m=\u001b[39m \u001b[38;5;28;01mNone\u001b[39;00m\n\u001b[1;32m   8586\u001b[0m ) \u001b[38;5;241m-\u001b[39m\u001b[38;5;241m>\u001b[39m typing\u001b[38;5;241m.\u001b[39mOptional[\u001b[38;5;124m\"\u001b[39m\u001b[38;5;124mResponse\u001b[39m\u001b[38;5;124m\"\u001b[39m]:\n\u001b[1;32m   8587\u001b[0m \u001b[38;5;250m    \u001b[39m\u001b[38;5;124;03m\"\"\"Page.goto\u001b[39;00m\n\u001b[1;32m   8588\u001b[0m \n\u001b[1;32m   8589\u001b[0m \u001b[38;5;124;03m    Returns the main resource response. In case of multiple redirects, the navigation will resolve with the first\u001b[39;00m\n\u001b[0;32m   (...)\u001b[0m\n\u001b[1;32m   8634\u001b[0m \u001b[38;5;124;03m    Union[Response, None]\u001b[39;00m\n\u001b[1;32m   8635\u001b[0m \u001b[38;5;124;03m    \"\"\"\u001b[39;00m\n\u001b[1;32m   8637\u001b[0m     \u001b[38;5;28;01mreturn\u001b[39;00m mapping\u001b[38;5;241m.\u001b[39mfrom_impl_nullable(\n\u001b[0;32m-> 8638\u001b[0m         \u001b[38;5;28;01mawait\u001b[39;00m \u001b[38;5;28mself\u001b[39m\u001b[38;5;241m.\u001b[39m_impl_obj\u001b[38;5;241m.\u001b[39mgoto(\n\u001b[1;32m   8639\u001b[0m             url\u001b[38;5;241m=\u001b[39murl, timeout\u001b[38;5;241m=\u001b[39mtimeout, waitUntil\u001b[38;5;241m=\u001b[39mwait_until, referer\u001b[38;5;241m=\u001b[39mreferer\n\u001b[1;32m   8640\u001b[0m         )\n\u001b[1;32m   8641\u001b[0m     )\n",
      "File \u001b[0;32m/data/liuxun/anaconda3/envs/PaperStat/lib/python3.9/site-packages/playwright/_impl/_page.py:500\u001b[0m, in \u001b[0;36mPage.goto\u001b[0;34m(self, url, timeout, waitUntil, referer)\u001b[0m\n\u001b[1;32m    493\u001b[0m \u001b[38;5;28;01masync\u001b[39;00m \u001b[38;5;28;01mdef\u001b[39;00m \u001b[38;5;21mgoto\u001b[39m(\n\u001b[1;32m    494\u001b[0m     \u001b[38;5;28mself\u001b[39m,\n\u001b[1;32m    495\u001b[0m     url: \u001b[38;5;28mstr\u001b[39m,\n\u001b[0;32m   (...)\u001b[0m\n\u001b[1;32m    498\u001b[0m     referer: \u001b[38;5;28mstr\u001b[39m \u001b[38;5;241m=\u001b[39m \u001b[38;5;28;01mNone\u001b[39;00m,\n\u001b[1;32m    499\u001b[0m ) \u001b[38;5;241m-\u001b[39m\u001b[38;5;241m>\u001b[39m Optional[Response]:\n\u001b[0;32m--> 500\u001b[0m     \u001b[38;5;28;01mreturn\u001b[39;00m \u001b[38;5;28;01mawait\u001b[39;00m \u001b[38;5;28mself\u001b[39m\u001b[38;5;241m.\u001b[39m_main_frame\u001b[38;5;241m.\u001b[39mgoto(\u001b[38;5;241m*\u001b[39m\u001b[38;5;241m*\u001b[39mlocals_to_params(\u001b[38;5;28mlocals\u001b[39m()))\n",
      "File \u001b[0;32m/data/liuxun/anaconda3/envs/PaperStat/lib/python3.9/site-packages/playwright/_impl/_frame.py:145\u001b[0m, in \u001b[0;36mFrame.goto\u001b[0;34m(self, url, timeout, waitUntil, referer)\u001b[0m\n\u001b[1;32m    135\u001b[0m \u001b[38;5;28;01masync\u001b[39;00m \u001b[38;5;28;01mdef\u001b[39;00m \u001b[38;5;21mgoto\u001b[39m(\n\u001b[1;32m    136\u001b[0m     \u001b[38;5;28mself\u001b[39m,\n\u001b[1;32m    137\u001b[0m     url: \u001b[38;5;28mstr\u001b[39m,\n\u001b[0;32m   (...)\u001b[0m\n\u001b[1;32m    140\u001b[0m     referer: \u001b[38;5;28mstr\u001b[39m \u001b[38;5;241m=\u001b[39m \u001b[38;5;28;01mNone\u001b[39;00m,\n\u001b[1;32m    141\u001b[0m ) \u001b[38;5;241m-\u001b[39m\u001b[38;5;241m>\u001b[39m Optional[Response]:\n\u001b[1;32m    142\u001b[0m     \u001b[38;5;28;01mreturn\u001b[39;00m cast(\n\u001b[1;32m    143\u001b[0m         Optional[Response],\n\u001b[1;32m    144\u001b[0m         from_nullable_channel(\n\u001b[0;32m--> 145\u001b[0m             \u001b[38;5;28;01mawait\u001b[39;00m \u001b[38;5;28mself\u001b[39m\u001b[38;5;241m.\u001b[39m_channel\u001b[38;5;241m.\u001b[39msend(\u001b[38;5;124m\"\u001b[39m\u001b[38;5;124mgoto\u001b[39m\u001b[38;5;124m\"\u001b[39m, locals_to_params(\u001b[38;5;28mlocals\u001b[39m()))\n\u001b[1;32m    146\u001b[0m         ),\n\u001b[1;32m    147\u001b[0m     )\n",
      "File \u001b[0;32m/data/liuxun/anaconda3/envs/PaperStat/lib/python3.9/site-packages/playwright/_impl/_connection.py:59\u001b[0m, in \u001b[0;36mChannel.send\u001b[0;34m(self, method, params)\u001b[0m\n\u001b[1;32m     58\u001b[0m \u001b[38;5;28;01masync\u001b[39;00m \u001b[38;5;28;01mdef\u001b[39;00m \u001b[38;5;21msend\u001b[39m(\u001b[38;5;28mself\u001b[39m, method: \u001b[38;5;28mstr\u001b[39m, params: Dict \u001b[38;5;241m=\u001b[39m \u001b[38;5;28;01mNone\u001b[39;00m) \u001b[38;5;241m-\u001b[39m\u001b[38;5;241m>\u001b[39m Any:\n\u001b[0;32m---> 59\u001b[0m     \u001b[38;5;28;01mreturn\u001b[39;00m \u001b[38;5;28;01mawait\u001b[39;00m \u001b[38;5;28mself\u001b[39m\u001b[38;5;241m.\u001b[39m_connection\u001b[38;5;241m.\u001b[39mwrap_api_call(\n\u001b[1;32m     60\u001b[0m         \u001b[38;5;28;01mlambda\u001b[39;00m: \u001b[38;5;28mself\u001b[39m\u001b[38;5;241m.\u001b[39minner_send(method, params, \u001b[38;5;28;01mFalse\u001b[39;00m)\n\u001b[1;32m     61\u001b[0m     )\n",
      "File \u001b[0;32m/data/liuxun/anaconda3/envs/PaperStat/lib/python3.9/site-packages/playwright/_impl/_connection.py:513\u001b[0m, in \u001b[0;36mConnection.wrap_api_call\u001b[0;34m(self, cb, is_internal)\u001b[0m\n\u001b[1;32m    511\u001b[0m     \u001b[38;5;28;01mreturn\u001b[39;00m \u001b[38;5;28;01mawait\u001b[39;00m cb()\n\u001b[1;32m    512\u001b[0m \u001b[38;5;28;01mexcept\u001b[39;00m \u001b[38;5;167;01mException\u001b[39;00m \u001b[38;5;28;01mas\u001b[39;00m error:\n\u001b[0;32m--> 513\u001b[0m     \u001b[38;5;28;01mraise\u001b[39;00m rewrite_error(error, \u001b[38;5;124mf\u001b[39m\u001b[38;5;124m\"\u001b[39m\u001b[38;5;132;01m{\u001b[39;00mparsed_st[\u001b[38;5;124m'\u001b[39m\u001b[38;5;124mapiName\u001b[39m\u001b[38;5;124m'\u001b[39m]\u001b[38;5;132;01m}\u001b[39;00m\u001b[38;5;124m: \u001b[39m\u001b[38;5;132;01m{\u001b[39;00merror\u001b[38;5;132;01m}\u001b[39;00m\u001b[38;5;124m\"\u001b[39m) \u001b[38;5;28;01mfrom\u001b[39;00m \u001b[38;5;28;01mNone\u001b[39;00m\n\u001b[1;32m    514\u001b[0m \u001b[38;5;28;01mfinally\u001b[39;00m:\n\u001b[1;32m    515\u001b[0m     \u001b[38;5;28mself\u001b[39m\u001b[38;5;241m.\u001b[39m_api_zone\u001b[38;5;241m.\u001b[39mset(\u001b[38;5;28;01mNone\u001b[39;00m)\n",
      "\u001b[0;31mTimeoutError\u001b[0m: Page.goto: Timeout 30000ms exceeded.\nCall log:\nnavigating to \"https://search.cctv.com/index.php\", waiting until \"load\"\n"
     ]
    }
   ],
   "source": [
    "import asyncio\n",
    "from playwright.async_api import async_playwright\n",
    "\n",
    "async def run(playwright):\n",
    "    browser = await playwright.chromium.launch(headless=True)  # 设置 headless=False 可以看到浏览器操作\n",
    "    page = await browser.new_page()  # 打开一个新页面\n",
    "\n",
    "    # 访问搜索页面\n",
    "    # await page.goto('https://search.cctv.com/search.php')\n",
    "    await page.goto('https://search.cctv.com/index.php')\n",
    "\n",
    "    # 等待搜索框元素加载完毕\n",
    "    await page.wait_for_selector('input[name=\"qtext\"]')\n",
    "\n",
    "    # 输入搜索词\n",
    "    await page.fill('input[name=\"qtext\"]', '杨杼鑫')\n",
    "\n",
    "    # 提交搜索\n",
    "    await page.click('a[onclick=\"searchForm_submit();\"]')  # 假设这是触发搜索的按钮的选择器\n",
    "\n",
    "    # 等待搜索结果加载\n",
    "    await page.wait_for_selector('.search17354_ind03')  # 假设这是显示搜索结果的元素的选择器\n",
    "\n",
    "    # 获取搜索结果的HTML内容\n",
    "    results = await page.inner_html('.search17354_ind03')\n",
    "\n",
    "    print(results)  # 打印出搜索结果的HTML内容\n",
    "\n",
    "    await browser.close()  # 关闭浏览器\n",
    "\n",
    "async def main():\n",
    "    async with async_playwright() as playwright:\n",
    "        await run(playwright)\n",
    "\n",
    "await main()"
   ]
  },
  {
   "cell_type": "markdown",
   "metadata": {},
   "source": [
    "# bilibili"
   ]
  },
  {
   "cell_type": "code",
   "execution_count": 13,
   "metadata": {},
   "outputs": [
    {
     "name": "stdout",
     "output_type": "stream",
     "text": [
      "https://www.bilibili.com/video/BV1sJ4m1j7SP\n",
      "视频标题是： 顾客：忘带钱包了，就用这个吧\n",
      "视频简介是： 你好，我是简介！\n",
      "———————————————————————————\n",
      "(｡･∀･)ﾉﾞ“我是简介的一部分，我负责管大家要三连！” \n",
      " \n",
      "告诉你个秘密：将我设置为「特别关注」可以第一时间收到推送喔！\n",
      " \n",
      "还有...这个UP好喜欢看弹幕和评论的，呜呜！\n",
      "———————————————————————————\n",
      "求三连！求关注！求鼓励！求三连！求关注！求鼓励！求三连！求关注！求鼓励！求三连！求关注！求鼓励！求三连！求关注！求鼓励！求三连！求关注！求鼓励！呜呜呜！呜呜呜！呜呜呜！\n"
     ]
    }
   ],
   "source": [
    "import requests\n",
    "from bs4 import BeautifulSoup\n",
    "\n",
    "VIDEO_URL_PREFIX = \"https://www.bilibili.com/video/{}\"\n",
    "id = \"BV1sJ4m1j7SP\"\n",
    "url = VIDEO_URL_PREFIX.format(id)\n",
    "\n",
    "print(url)\n",
    "\n",
    "headers = {'User-Agent': 'Mozilla/5.0 (Macintosh; Intel Mac OS X 10_15_7) AppleWebKit/537.36 (KHTML, like Gecko) Chrome/123.0.0.0 Safari/537.36'}\n",
    "\n",
    "response = requests.get(url, headers=headers)\n",
    "soup = BeautifulSoup(response.text, 'html.parser')\n",
    "title_tag = soup.find('div', class_='video-info-title-inner')\n",
    "if title_tag:\n",
    "    title = title_tag.h1.text\n",
    "    print(\"视频标题是：\", title)\n",
    "else:\n",
    "    print(\"未找到标题\")\n",
    "\n",
    "intro_tag = soup.find('span', class_='desc-info-text')\n",
    "if intro_tag:\n",
    "    intro = intro_tag.text\n",
    "    print(\"视频简介是：\", intro)\n",
    "else:\n",
    "    print(\"未找到简介\")\n",
    "\n",
    "with open(\"test.html\", \"w\") as f:\n",
    "    f.write(response.text)"
   ]
  }
 ],
 "metadata": {
  "kernelspec": {
   "display_name": "PaperStat",
   "language": "python",
   "name": "python3"
  },
  "language_info": {
   "codemirror_mode": {
    "name": "ipython",
    "version": 3
   },
   "file_extension": ".py",
   "mimetype": "text/x-python",
   "name": "python",
   "nbconvert_exporter": "python",
   "pygments_lexer": "ipython3",
   "version": "3.9.18"
  }
 },
 "nbformat": 4,
 "nbformat_minor": 2
}
